{
  "cells": [
    {
      "cell_type": "code",
      "execution_count": null,
      "id": "e6aea71b",
      "metadata": {
        "id": "e6aea71b"
      },
      "outputs": [],
      "source": [
        "# Import libraries\n",
        "import pandas as pd\n",
        "import numpy as np\n",
        "import matplotlib.pyplot as plt\n",
        "import matplotlib.image as mpimg\n",
        "import seaborn as sns\n",
        "\n",
        "from sklearn.model_selection import train_test_split\n",
        "\n",
        "from keras.utils.np_utils import to_categorical\n",
        "from keras.models import Sequential\n",
        "from keras.layers import Dense, Dropout, Flatten, Conv2D, MaxPool2D\n",
        "from tensorflow.keras.optimizers import RMSprop\n",
        "from tensorflow.keras.callbacks import EarlyStopping\n",
        "from keras.preprocessing.image import ImageDataGenerator\n",
        "from keras.callbacks import ReduceLROnPlateau"
      ]
    },
    {
      "cell_type": "code",
      "source": [
        "# Download dataset from drive, Skip this part if you already have the dataset downloaded\n",
        "\n",
        "!gdown --id 1Qh4qLch1if2Gta39t4qRoULCRZYFl1XA\n",
        "!gdown --id 16m6eYD8zUjD49xT6fIYqzTF8gF0Im_NR"
      ],
      "metadata": {
        "colab": {
          "base_uri": "https://localhost:8080/"
        },
        "id": "S5P7BuK35uJx",
        "outputId": "56254ef1-f282-4c01-c45c-8ce033921135"
      },
      "id": "S5P7BuK35uJx",
      "execution_count": null,
      "outputs": [
        {
          "output_type": "stream",
          "name": "stdout",
          "text": [
            "/usr/local/lib/python3.10/dist-packages/gdown/cli.py:121: FutureWarning: Option `--id` was deprecated in version 4.3.1 and will be removed in 5.0. You don't need to pass it anymore to use a file ID.\n",
            "  warnings.warn(\n",
            "Downloading...\n",
            "From: https://drive.google.com/uc?id=1Qh4qLch1if2Gta39t4qRoULCRZYFl1XA\n",
            "To: /content/train.csv\n",
            "100% 30.8M/30.8M [00:00<00:00, 37.6MB/s]\n",
            "/usr/local/lib/python3.10/dist-packages/gdown/cli.py:121: FutureWarning: Option `--id` was deprecated in version 4.3.1 and will be removed in 5.0. You don't need to pass it anymore to use a file ID.\n",
            "  warnings.warn(\n",
            "Downloading...\n",
            "From: https://drive.google.com/uc?id=16m6eYD8zUjD49xT6fIYqzTF8gF0Im_NR\n",
            "To: /content/test.csv\n",
            "100% 3.59M/3.59M [00:00<00:00, 246MB/s]\n"
          ]
        }
      ]
    },
    {
      "cell_type": "code",
      "source": [
        "###################"
      ],
      "metadata": {
        "id": "QkPpPqRA6LwH"
      },
      "id": "QkPpPqRA6LwH",
      "execution_count": null,
      "outputs": []
    },
    {
      "cell_type": "code",
      "execution_count": null,
      "id": "2e910d28",
      "metadata": {
        "id": "2e910d28"
      },
      "outputs": [],
      "source": [
        "# Load files and assign variables to X and Y\n",
        "train = pd.read_csv(\"train.csv\")\n",
        "test = pd.read_csv(\"test.csv\")\n",
        "\n",
        "# Define train and test set\n",
        "X_train = train.iloc[:,2:]\n",
        "Y_train = train['labels']\n",
        "X_test = test.iloc[:,2:]\n",
        "Y_test = test['labels']"
      ]
    },
    {
      "cell_type": "code",
      "execution_count": null,
      "id": "9555d243",
      "metadata": {
        "colab": {
          "base_uri": "https://localhost:8080/",
          "height": 423
        },
        "id": "9555d243",
        "outputId": "9101dbf0-f64c-4b24-f498-13cfc77d4016"
      },
      "outputs": [
        {
          "output_type": "execute_result",
          "data": {
            "text/plain": [
              "         0    1    2    3    4    5    6    7    8    9  ...  774  775  776  \\\n",
              "0      132  135  132  131  134  134  135  136  133  134  ...   85  125  125   \n",
              "1      183  188  188  189  190  189  193  197  201  202  ...   20   19   24   \n",
              "2      128  127  127  128  127  129  126  125  127  128  ...  118  116  119   \n",
              "3      150  154  152  151  153  153  154  155  154  155  ...  145  145  144   \n",
              "4      184  183  183  184  183  184  186  184  187  188  ...  123  119  120   \n",
              "...    ...  ...  ...  ...  ...  ...  ...  ...  ...  ...  ...  ...  ...  ...   \n",
              "10525  255  255  255  255  255  255  255  255  255  255  ...  254  254  252   \n",
              "10526  171  173  177  179  180  181  181  185  190  188  ...   26   24   28   \n",
              "10527  128  130  128  128  129  128  128  128  129  131  ...   97   91   87   \n",
              "10528  132  134  132  132  130  129  130  135  137  137  ...  126  105   80   \n",
              "10529   30  161   35   44   48   45   40   41   47   47  ...  147  193  196   \n",
              "\n",
              "       777  778  779  780  781  782  783  \n",
              "0      121  122  126  125  126  125  126  \n",
              "1       21   19   19   20   11   12    8  \n",
              "2      118  114  118  115  116  113  107  \n",
              "3      144  140  144  145  142  143  145  \n",
              "4      117  120  148  147  139  131  153  \n",
              "...    ...  ...  ...  ...  ...  ...  ...  \n",
              "10525  252  141   32   19   88   13   22  \n",
              "10526   31   27   40  235  242  240  210  \n",
              "10527   84   80   83   82  125  123  122  \n",
              "10528   90   95   95   98   91   58  128  \n",
              "10529  169  188  180  202  193  130   94  \n",
              "\n",
              "[10530 rows x 784 columns]"
            ],
            "text/html": [
              "\n",
              "  <div id=\"df-9d44668c-619c-4bd0-9104-31db60736eb0\">\n",
              "    <div class=\"colab-df-container\">\n",
              "      <div>\n",
              "<style scoped>\n",
              "    .dataframe tbody tr th:only-of-type {\n",
              "        vertical-align: middle;\n",
              "    }\n",
              "\n",
              "    .dataframe tbody tr th {\n",
              "        vertical-align: top;\n",
              "    }\n",
              "\n",
              "    .dataframe thead th {\n",
              "        text-align: right;\n",
              "    }\n",
              "</style>\n",
              "<table border=\"1\" class=\"dataframe\">\n",
              "  <thead>\n",
              "    <tr style=\"text-align: right;\">\n",
              "      <th></th>\n",
              "      <th>0</th>\n",
              "      <th>1</th>\n",
              "      <th>2</th>\n",
              "      <th>3</th>\n",
              "      <th>4</th>\n",
              "      <th>5</th>\n",
              "      <th>6</th>\n",
              "      <th>7</th>\n",
              "      <th>8</th>\n",
              "      <th>9</th>\n",
              "      <th>...</th>\n",
              "      <th>774</th>\n",
              "      <th>775</th>\n",
              "      <th>776</th>\n",
              "      <th>777</th>\n",
              "      <th>778</th>\n",
              "      <th>779</th>\n",
              "      <th>780</th>\n",
              "      <th>781</th>\n",
              "      <th>782</th>\n",
              "      <th>783</th>\n",
              "    </tr>\n",
              "  </thead>\n",
              "  <tbody>\n",
              "    <tr>\n",
              "      <th>0</th>\n",
              "      <td>132</td>\n",
              "      <td>135</td>\n",
              "      <td>132</td>\n",
              "      <td>131</td>\n",
              "      <td>134</td>\n",
              "      <td>134</td>\n",
              "      <td>135</td>\n",
              "      <td>136</td>\n",
              "      <td>133</td>\n",
              "      <td>134</td>\n",
              "      <td>...</td>\n",
              "      <td>85</td>\n",
              "      <td>125</td>\n",
              "      <td>125</td>\n",
              "      <td>121</td>\n",
              "      <td>122</td>\n",
              "      <td>126</td>\n",
              "      <td>125</td>\n",
              "      <td>126</td>\n",
              "      <td>125</td>\n",
              "      <td>126</td>\n",
              "    </tr>\n",
              "    <tr>\n",
              "      <th>1</th>\n",
              "      <td>183</td>\n",
              "      <td>188</td>\n",
              "      <td>188</td>\n",
              "      <td>189</td>\n",
              "      <td>190</td>\n",
              "      <td>189</td>\n",
              "      <td>193</td>\n",
              "      <td>197</td>\n",
              "      <td>201</td>\n",
              "      <td>202</td>\n",
              "      <td>...</td>\n",
              "      <td>20</td>\n",
              "      <td>19</td>\n",
              "      <td>24</td>\n",
              "      <td>21</td>\n",
              "      <td>19</td>\n",
              "      <td>19</td>\n",
              "      <td>20</td>\n",
              "      <td>11</td>\n",
              "      <td>12</td>\n",
              "      <td>8</td>\n",
              "    </tr>\n",
              "    <tr>\n",
              "      <th>2</th>\n",
              "      <td>128</td>\n",
              "      <td>127</td>\n",
              "      <td>127</td>\n",
              "      <td>128</td>\n",
              "      <td>127</td>\n",
              "      <td>129</td>\n",
              "      <td>126</td>\n",
              "      <td>125</td>\n",
              "      <td>127</td>\n",
              "      <td>128</td>\n",
              "      <td>...</td>\n",
              "      <td>118</td>\n",
              "      <td>116</td>\n",
              "      <td>119</td>\n",
              "      <td>118</td>\n",
              "      <td>114</td>\n",
              "      <td>118</td>\n",
              "      <td>115</td>\n",
              "      <td>116</td>\n",
              "      <td>113</td>\n",
              "      <td>107</td>\n",
              "    </tr>\n",
              "    <tr>\n",
              "      <th>3</th>\n",
              "      <td>150</td>\n",
              "      <td>154</td>\n",
              "      <td>152</td>\n",
              "      <td>151</td>\n",
              "      <td>153</td>\n",
              "      <td>153</td>\n",
              "      <td>154</td>\n",
              "      <td>155</td>\n",
              "      <td>154</td>\n",
              "      <td>155</td>\n",
              "      <td>...</td>\n",
              "      <td>145</td>\n",
              "      <td>145</td>\n",
              "      <td>144</td>\n",
              "      <td>144</td>\n",
              "      <td>140</td>\n",
              "      <td>144</td>\n",
              "      <td>145</td>\n",
              "      <td>142</td>\n",
              "      <td>143</td>\n",
              "      <td>145</td>\n",
              "    </tr>\n",
              "    <tr>\n",
              "      <th>4</th>\n",
              "      <td>184</td>\n",
              "      <td>183</td>\n",
              "      <td>183</td>\n",
              "      <td>184</td>\n",
              "      <td>183</td>\n",
              "      <td>184</td>\n",
              "      <td>186</td>\n",
              "      <td>184</td>\n",
              "      <td>187</td>\n",
              "      <td>188</td>\n",
              "      <td>...</td>\n",
              "      <td>123</td>\n",
              "      <td>119</td>\n",
              "      <td>120</td>\n",
              "      <td>117</td>\n",
              "      <td>120</td>\n",
              "      <td>148</td>\n",
              "      <td>147</td>\n",
              "      <td>139</td>\n",
              "      <td>131</td>\n",
              "      <td>153</td>\n",
              "    </tr>\n",
              "    <tr>\n",
              "      <th>...</th>\n",
              "      <td>...</td>\n",
              "      <td>...</td>\n",
              "      <td>...</td>\n",
              "      <td>...</td>\n",
              "      <td>...</td>\n",
              "      <td>...</td>\n",
              "      <td>...</td>\n",
              "      <td>...</td>\n",
              "      <td>...</td>\n",
              "      <td>...</td>\n",
              "      <td>...</td>\n",
              "      <td>...</td>\n",
              "      <td>...</td>\n",
              "      <td>...</td>\n",
              "      <td>...</td>\n",
              "      <td>...</td>\n",
              "      <td>...</td>\n",
              "      <td>...</td>\n",
              "      <td>...</td>\n",
              "      <td>...</td>\n",
              "      <td>...</td>\n",
              "    </tr>\n",
              "    <tr>\n",
              "      <th>10525</th>\n",
              "      <td>255</td>\n",
              "      <td>255</td>\n",
              "      <td>255</td>\n",
              "      <td>255</td>\n",
              "      <td>255</td>\n",
              "      <td>255</td>\n",
              "      <td>255</td>\n",
              "      <td>255</td>\n",
              "      <td>255</td>\n",
              "      <td>255</td>\n",
              "      <td>...</td>\n",
              "      <td>254</td>\n",
              "      <td>254</td>\n",
              "      <td>252</td>\n",
              "      <td>252</td>\n",
              "      <td>141</td>\n",
              "      <td>32</td>\n",
              "      <td>19</td>\n",
              "      <td>88</td>\n",
              "      <td>13</td>\n",
              "      <td>22</td>\n",
              "    </tr>\n",
              "    <tr>\n",
              "      <th>10526</th>\n",
              "      <td>171</td>\n",
              "      <td>173</td>\n",
              "      <td>177</td>\n",
              "      <td>179</td>\n",
              "      <td>180</td>\n",
              "      <td>181</td>\n",
              "      <td>181</td>\n",
              "      <td>185</td>\n",
              "      <td>190</td>\n",
              "      <td>188</td>\n",
              "      <td>...</td>\n",
              "      <td>26</td>\n",
              "      <td>24</td>\n",
              "      <td>28</td>\n",
              "      <td>31</td>\n",
              "      <td>27</td>\n",
              "      <td>40</td>\n",
              "      <td>235</td>\n",
              "      <td>242</td>\n",
              "      <td>240</td>\n",
              "      <td>210</td>\n",
              "    </tr>\n",
              "    <tr>\n",
              "      <th>10527</th>\n",
              "      <td>128</td>\n",
              "      <td>130</td>\n",
              "      <td>128</td>\n",
              "      <td>128</td>\n",
              "      <td>129</td>\n",
              "      <td>128</td>\n",
              "      <td>128</td>\n",
              "      <td>128</td>\n",
              "      <td>129</td>\n",
              "      <td>131</td>\n",
              "      <td>...</td>\n",
              "      <td>97</td>\n",
              "      <td>91</td>\n",
              "      <td>87</td>\n",
              "      <td>84</td>\n",
              "      <td>80</td>\n",
              "      <td>83</td>\n",
              "      <td>82</td>\n",
              "      <td>125</td>\n",
              "      <td>123</td>\n",
              "      <td>122</td>\n",
              "    </tr>\n",
              "    <tr>\n",
              "      <th>10528</th>\n",
              "      <td>132</td>\n",
              "      <td>134</td>\n",
              "      <td>132</td>\n",
              "      <td>132</td>\n",
              "      <td>130</td>\n",
              "      <td>129</td>\n",
              "      <td>130</td>\n",
              "      <td>135</td>\n",
              "      <td>137</td>\n",
              "      <td>137</td>\n",
              "      <td>...</td>\n",
              "      <td>126</td>\n",
              "      <td>105</td>\n",
              "      <td>80</td>\n",
              "      <td>90</td>\n",
              "      <td>95</td>\n",
              "      <td>95</td>\n",
              "      <td>98</td>\n",
              "      <td>91</td>\n",
              "      <td>58</td>\n",
              "      <td>128</td>\n",
              "    </tr>\n",
              "    <tr>\n",
              "      <th>10529</th>\n",
              "      <td>30</td>\n",
              "      <td>161</td>\n",
              "      <td>35</td>\n",
              "      <td>44</td>\n",
              "      <td>48</td>\n",
              "      <td>45</td>\n",
              "      <td>40</td>\n",
              "      <td>41</td>\n",
              "      <td>47</td>\n",
              "      <td>47</td>\n",
              "      <td>...</td>\n",
              "      <td>147</td>\n",
              "      <td>193</td>\n",
              "      <td>196</td>\n",
              "      <td>169</td>\n",
              "      <td>188</td>\n",
              "      <td>180</td>\n",
              "      <td>202</td>\n",
              "      <td>193</td>\n",
              "      <td>130</td>\n",
              "      <td>94</td>\n",
              "    </tr>\n",
              "  </tbody>\n",
              "</table>\n",
              "<p>10530 rows × 784 columns</p>\n",
              "</div>\n",
              "      <button class=\"colab-df-convert\" onclick=\"convertToInteractive('df-9d44668c-619c-4bd0-9104-31db60736eb0')\"\n",
              "              title=\"Convert this dataframe to an interactive table.\"\n",
              "              style=\"display:none;\">\n",
              "        \n",
              "  <svg xmlns=\"http://www.w3.org/2000/svg\" height=\"24px\"viewBox=\"0 0 24 24\"\n",
              "       width=\"24px\">\n",
              "    <path d=\"M0 0h24v24H0V0z\" fill=\"none\"/>\n",
              "    <path d=\"M18.56 5.44l.94 2.06.94-2.06 2.06-.94-2.06-.94-.94-2.06-.94 2.06-2.06.94zm-11 1L8.5 8.5l.94-2.06 2.06-.94-2.06-.94L8.5 2.5l-.94 2.06-2.06.94zm10 10l.94 2.06.94-2.06 2.06-.94-2.06-.94-.94-2.06-.94 2.06-2.06.94z\"/><path d=\"M17.41 7.96l-1.37-1.37c-.4-.4-.92-.59-1.43-.59-.52 0-1.04.2-1.43.59L10.3 9.45l-7.72 7.72c-.78.78-.78 2.05 0 2.83L4 21.41c.39.39.9.59 1.41.59.51 0 1.02-.2 1.41-.59l7.78-7.78 2.81-2.81c.8-.78.8-2.07 0-2.86zM5.41 20L4 18.59l7.72-7.72 1.47 1.35L5.41 20z\"/>\n",
              "  </svg>\n",
              "      </button>\n",
              "      \n",
              "  <style>\n",
              "    .colab-df-container {\n",
              "      display:flex;\n",
              "      flex-wrap:wrap;\n",
              "      gap: 12px;\n",
              "    }\n",
              "\n",
              "    .colab-df-convert {\n",
              "      background-color: #E8F0FE;\n",
              "      border: none;\n",
              "      border-radius: 50%;\n",
              "      cursor: pointer;\n",
              "      display: none;\n",
              "      fill: #1967D2;\n",
              "      height: 32px;\n",
              "      padding: 0 0 0 0;\n",
              "      width: 32px;\n",
              "    }\n",
              "\n",
              "    .colab-df-convert:hover {\n",
              "      background-color: #E2EBFA;\n",
              "      box-shadow: 0px 1px 2px rgba(60, 64, 67, 0.3), 0px 1px 3px 1px rgba(60, 64, 67, 0.15);\n",
              "      fill: #174EA6;\n",
              "    }\n",
              "\n",
              "    [theme=dark] .colab-df-convert {\n",
              "      background-color: #3B4455;\n",
              "      fill: #D2E3FC;\n",
              "    }\n",
              "\n",
              "    [theme=dark] .colab-df-convert:hover {\n",
              "      background-color: #434B5C;\n",
              "      box-shadow: 0px 1px 3px 1px rgba(0, 0, 0, 0.15);\n",
              "      filter: drop-shadow(0px 1px 2px rgba(0, 0, 0, 0.3));\n",
              "      fill: #FFFFFF;\n",
              "    }\n",
              "  </style>\n",
              "\n",
              "      <script>\n",
              "        const buttonEl =\n",
              "          document.querySelector('#df-9d44668c-619c-4bd0-9104-31db60736eb0 button.colab-df-convert');\n",
              "        buttonEl.style.display =\n",
              "          google.colab.kernel.accessAllowed ? 'block' : 'none';\n",
              "\n",
              "        async function convertToInteractive(key) {\n",
              "          const element = document.querySelector('#df-9d44668c-619c-4bd0-9104-31db60736eb0');\n",
              "          const dataTable =\n",
              "            await google.colab.kernel.invokeFunction('convertToInteractive',\n",
              "                                                     [key], {});\n",
              "          if (!dataTable) return;\n",
              "\n",
              "          const docLinkHtml = 'Like what you see? Visit the ' +\n",
              "            '<a target=\"_blank\" href=https://colab.research.google.com/notebooks/data_table.ipynb>data table notebook</a>'\n",
              "            + ' to learn more about interactive tables.';\n",
              "          element.innerHTML = '';\n",
              "          dataTable['output_type'] = 'display_data';\n",
              "          await google.colab.output.renderOutput(dataTable, element);\n",
              "          const docLink = document.createElement('div');\n",
              "          docLink.innerHTML = docLinkHtml;\n",
              "          element.appendChild(docLink);\n",
              "        }\n",
              "      </script>\n",
              "    </div>\n",
              "  </div>\n",
              "  "
            ]
          },
          "metadata": {},
          "execution_count": 6
        }
      ],
      "source": [
        "X_train"
      ]
    },
    {
      "cell_type": "code",
      "source": [
        "X_test"
      ],
      "metadata": {
        "colab": {
          "base_uri": "https://localhost:8080/",
          "height": 423
        },
        "id": "_k-gG_4UJbVc",
        "outputId": "8a8dceb4-1289-4f63-8923-d00a89da85e6"
      },
      "id": "_k-gG_4UJbVc",
      "execution_count": null,
      "outputs": [
        {
          "output_type": "execute_result",
          "data": {
            "text/plain": [
              "        0    1    2    3    4    5    6    7    8    9  ...  774  775  776  \\\n",
              "0     132  131  129  131  130  132  133  136  135  136  ...   77   93   71   \n",
              "1     184  182  182  182  182  182  179  181  182  182  ...  166  164  164   \n",
              "2     126  127  126  127  107   85  118  131  131  131  ...  104  103  119   \n",
              "3     128  132  128  131  129  133  132  131  131  133  ...   84   89   91   \n",
              "4     130  131  133  133  133  130  130  135  137  137  ...  115  119  116   \n",
              "...   ...  ...  ...  ...  ...  ...  ...  ...  ...  ...  ...  ...  ...  ...   \n",
              "1165  194  193  193  192  194  195  195  197  199  199  ...  187  187  186   \n",
              "1166  165  168  167  165  164  163  165  166  165  167  ...  107  128  146   \n",
              "1167  131  131  131  130  130  129  134  128  129  136  ...  112  111  113   \n",
              "1168  137  137  136  137  138  138  138  136  136  136  ...  117  118   77   \n",
              "1169  151  150  151  150  150  148  151  150  149  150  ...  120  120  122   \n",
              "\n",
              "      777  778  779  780  781  782  783  \n",
              "0      82  100  116  121  113   93  126  \n",
              "1     166  164  161  162  163  163  160  \n",
              "2     117  117  115  116  114  115  113  \n",
              "3      91   82   83  106  124  124  123  \n",
              "4     122   68   91  111  109   93   62  \n",
              "...   ...  ...  ...  ...  ...  ...  ...  \n",
              "1165  188  187  187  186  186  186  181  \n",
              "1166  147  147  147  145  147  145  147  \n",
              "1167  116  111  113  111  112  113  113  \n",
              "1168   66   88  111  123  122  108  106  \n",
              "1169  119  117  119  120  117  123  122  \n",
              "\n",
              "[1170 rows x 784 columns]"
            ],
            "text/html": [
              "\n",
              "  <div id=\"df-52d2445f-de2a-4ace-9910-94a991dacd31\">\n",
              "    <div class=\"colab-df-container\">\n",
              "      <div>\n",
              "<style scoped>\n",
              "    .dataframe tbody tr th:only-of-type {\n",
              "        vertical-align: middle;\n",
              "    }\n",
              "\n",
              "    .dataframe tbody tr th {\n",
              "        vertical-align: top;\n",
              "    }\n",
              "\n",
              "    .dataframe thead th {\n",
              "        text-align: right;\n",
              "    }\n",
              "</style>\n",
              "<table border=\"1\" class=\"dataframe\">\n",
              "  <thead>\n",
              "    <tr style=\"text-align: right;\">\n",
              "      <th></th>\n",
              "      <th>0</th>\n",
              "      <th>1</th>\n",
              "      <th>2</th>\n",
              "      <th>3</th>\n",
              "      <th>4</th>\n",
              "      <th>5</th>\n",
              "      <th>6</th>\n",
              "      <th>7</th>\n",
              "      <th>8</th>\n",
              "      <th>9</th>\n",
              "      <th>...</th>\n",
              "      <th>774</th>\n",
              "      <th>775</th>\n",
              "      <th>776</th>\n",
              "      <th>777</th>\n",
              "      <th>778</th>\n",
              "      <th>779</th>\n",
              "      <th>780</th>\n",
              "      <th>781</th>\n",
              "      <th>782</th>\n",
              "      <th>783</th>\n",
              "    </tr>\n",
              "  </thead>\n",
              "  <tbody>\n",
              "    <tr>\n",
              "      <th>0</th>\n",
              "      <td>132</td>\n",
              "      <td>131</td>\n",
              "      <td>129</td>\n",
              "      <td>131</td>\n",
              "      <td>130</td>\n",
              "      <td>132</td>\n",
              "      <td>133</td>\n",
              "      <td>136</td>\n",
              "      <td>135</td>\n",
              "      <td>136</td>\n",
              "      <td>...</td>\n",
              "      <td>77</td>\n",
              "      <td>93</td>\n",
              "      <td>71</td>\n",
              "      <td>82</td>\n",
              "      <td>100</td>\n",
              "      <td>116</td>\n",
              "      <td>121</td>\n",
              "      <td>113</td>\n",
              "      <td>93</td>\n",
              "      <td>126</td>\n",
              "    </tr>\n",
              "    <tr>\n",
              "      <th>1</th>\n",
              "      <td>184</td>\n",
              "      <td>182</td>\n",
              "      <td>182</td>\n",
              "      <td>182</td>\n",
              "      <td>182</td>\n",
              "      <td>182</td>\n",
              "      <td>179</td>\n",
              "      <td>181</td>\n",
              "      <td>182</td>\n",
              "      <td>182</td>\n",
              "      <td>...</td>\n",
              "      <td>166</td>\n",
              "      <td>164</td>\n",
              "      <td>164</td>\n",
              "      <td>166</td>\n",
              "      <td>164</td>\n",
              "      <td>161</td>\n",
              "      <td>162</td>\n",
              "      <td>163</td>\n",
              "      <td>163</td>\n",
              "      <td>160</td>\n",
              "    </tr>\n",
              "    <tr>\n",
              "      <th>2</th>\n",
              "      <td>126</td>\n",
              "      <td>127</td>\n",
              "      <td>126</td>\n",
              "      <td>127</td>\n",
              "      <td>107</td>\n",
              "      <td>85</td>\n",
              "      <td>118</td>\n",
              "      <td>131</td>\n",
              "      <td>131</td>\n",
              "      <td>131</td>\n",
              "      <td>...</td>\n",
              "      <td>104</td>\n",
              "      <td>103</td>\n",
              "      <td>119</td>\n",
              "      <td>117</td>\n",
              "      <td>117</td>\n",
              "      <td>115</td>\n",
              "      <td>116</td>\n",
              "      <td>114</td>\n",
              "      <td>115</td>\n",
              "      <td>113</td>\n",
              "    </tr>\n",
              "    <tr>\n",
              "      <th>3</th>\n",
              "      <td>128</td>\n",
              "      <td>132</td>\n",
              "      <td>128</td>\n",
              "      <td>131</td>\n",
              "      <td>129</td>\n",
              "      <td>133</td>\n",
              "      <td>132</td>\n",
              "      <td>131</td>\n",
              "      <td>131</td>\n",
              "      <td>133</td>\n",
              "      <td>...</td>\n",
              "      <td>84</td>\n",
              "      <td>89</td>\n",
              "      <td>91</td>\n",
              "      <td>91</td>\n",
              "      <td>82</td>\n",
              "      <td>83</td>\n",
              "      <td>106</td>\n",
              "      <td>124</td>\n",
              "      <td>124</td>\n",
              "      <td>123</td>\n",
              "    </tr>\n",
              "    <tr>\n",
              "      <th>4</th>\n",
              "      <td>130</td>\n",
              "      <td>131</td>\n",
              "      <td>133</td>\n",
              "      <td>133</td>\n",
              "      <td>133</td>\n",
              "      <td>130</td>\n",
              "      <td>130</td>\n",
              "      <td>135</td>\n",
              "      <td>137</td>\n",
              "      <td>137</td>\n",
              "      <td>...</td>\n",
              "      <td>115</td>\n",
              "      <td>119</td>\n",
              "      <td>116</td>\n",
              "      <td>122</td>\n",
              "      <td>68</td>\n",
              "      <td>91</td>\n",
              "      <td>111</td>\n",
              "      <td>109</td>\n",
              "      <td>93</td>\n",
              "      <td>62</td>\n",
              "    </tr>\n",
              "    <tr>\n",
              "      <th>...</th>\n",
              "      <td>...</td>\n",
              "      <td>...</td>\n",
              "      <td>...</td>\n",
              "      <td>...</td>\n",
              "      <td>...</td>\n",
              "      <td>...</td>\n",
              "      <td>...</td>\n",
              "      <td>...</td>\n",
              "      <td>...</td>\n",
              "      <td>...</td>\n",
              "      <td>...</td>\n",
              "      <td>...</td>\n",
              "      <td>...</td>\n",
              "      <td>...</td>\n",
              "      <td>...</td>\n",
              "      <td>...</td>\n",
              "      <td>...</td>\n",
              "      <td>...</td>\n",
              "      <td>...</td>\n",
              "      <td>...</td>\n",
              "      <td>...</td>\n",
              "    </tr>\n",
              "    <tr>\n",
              "      <th>1165</th>\n",
              "      <td>194</td>\n",
              "      <td>193</td>\n",
              "      <td>193</td>\n",
              "      <td>192</td>\n",
              "      <td>194</td>\n",
              "      <td>195</td>\n",
              "      <td>195</td>\n",
              "      <td>197</td>\n",
              "      <td>199</td>\n",
              "      <td>199</td>\n",
              "      <td>...</td>\n",
              "      <td>187</td>\n",
              "      <td>187</td>\n",
              "      <td>186</td>\n",
              "      <td>188</td>\n",
              "      <td>187</td>\n",
              "      <td>187</td>\n",
              "      <td>186</td>\n",
              "      <td>186</td>\n",
              "      <td>186</td>\n",
              "      <td>181</td>\n",
              "    </tr>\n",
              "    <tr>\n",
              "      <th>1166</th>\n",
              "      <td>165</td>\n",
              "      <td>168</td>\n",
              "      <td>167</td>\n",
              "      <td>165</td>\n",
              "      <td>164</td>\n",
              "      <td>163</td>\n",
              "      <td>165</td>\n",
              "      <td>166</td>\n",
              "      <td>165</td>\n",
              "      <td>167</td>\n",
              "      <td>...</td>\n",
              "      <td>107</td>\n",
              "      <td>128</td>\n",
              "      <td>146</td>\n",
              "      <td>147</td>\n",
              "      <td>147</td>\n",
              "      <td>147</td>\n",
              "      <td>145</td>\n",
              "      <td>147</td>\n",
              "      <td>145</td>\n",
              "      <td>147</td>\n",
              "    </tr>\n",
              "    <tr>\n",
              "      <th>1167</th>\n",
              "      <td>131</td>\n",
              "      <td>131</td>\n",
              "      <td>131</td>\n",
              "      <td>130</td>\n",
              "      <td>130</td>\n",
              "      <td>129</td>\n",
              "      <td>134</td>\n",
              "      <td>128</td>\n",
              "      <td>129</td>\n",
              "      <td>136</td>\n",
              "      <td>...</td>\n",
              "      <td>112</td>\n",
              "      <td>111</td>\n",
              "      <td>113</td>\n",
              "      <td>116</td>\n",
              "      <td>111</td>\n",
              "      <td>113</td>\n",
              "      <td>111</td>\n",
              "      <td>112</td>\n",
              "      <td>113</td>\n",
              "      <td>113</td>\n",
              "    </tr>\n",
              "    <tr>\n",
              "      <th>1168</th>\n",
              "      <td>137</td>\n",
              "      <td>137</td>\n",
              "      <td>136</td>\n",
              "      <td>137</td>\n",
              "      <td>138</td>\n",
              "      <td>138</td>\n",
              "      <td>138</td>\n",
              "      <td>136</td>\n",
              "      <td>136</td>\n",
              "      <td>136</td>\n",
              "      <td>...</td>\n",
              "      <td>117</td>\n",
              "      <td>118</td>\n",
              "      <td>77</td>\n",
              "      <td>66</td>\n",
              "      <td>88</td>\n",
              "      <td>111</td>\n",
              "      <td>123</td>\n",
              "      <td>122</td>\n",
              "      <td>108</td>\n",
              "      <td>106</td>\n",
              "    </tr>\n",
              "    <tr>\n",
              "      <th>1169</th>\n",
              "      <td>151</td>\n",
              "      <td>150</td>\n",
              "      <td>151</td>\n",
              "      <td>150</td>\n",
              "      <td>150</td>\n",
              "      <td>148</td>\n",
              "      <td>151</td>\n",
              "      <td>150</td>\n",
              "      <td>149</td>\n",
              "      <td>150</td>\n",
              "      <td>...</td>\n",
              "      <td>120</td>\n",
              "      <td>120</td>\n",
              "      <td>122</td>\n",
              "      <td>119</td>\n",
              "      <td>117</td>\n",
              "      <td>119</td>\n",
              "      <td>120</td>\n",
              "      <td>117</td>\n",
              "      <td>123</td>\n",
              "      <td>122</td>\n",
              "    </tr>\n",
              "  </tbody>\n",
              "</table>\n",
              "<p>1170 rows × 784 columns</p>\n",
              "</div>\n",
              "      <button class=\"colab-df-convert\" onclick=\"convertToInteractive('df-52d2445f-de2a-4ace-9910-94a991dacd31')\"\n",
              "              title=\"Convert this dataframe to an interactive table.\"\n",
              "              style=\"display:none;\">\n",
              "        \n",
              "  <svg xmlns=\"http://www.w3.org/2000/svg\" height=\"24px\"viewBox=\"0 0 24 24\"\n",
              "       width=\"24px\">\n",
              "    <path d=\"M0 0h24v24H0V0z\" fill=\"none\"/>\n",
              "    <path d=\"M18.56 5.44l.94 2.06.94-2.06 2.06-.94-2.06-.94-.94-2.06-.94 2.06-2.06.94zm-11 1L8.5 8.5l.94-2.06 2.06-.94-2.06-.94L8.5 2.5l-.94 2.06-2.06.94zm10 10l.94 2.06.94-2.06 2.06-.94-2.06-.94-.94-2.06-.94 2.06-2.06.94z\"/><path d=\"M17.41 7.96l-1.37-1.37c-.4-.4-.92-.59-1.43-.59-.52 0-1.04.2-1.43.59L10.3 9.45l-7.72 7.72c-.78.78-.78 2.05 0 2.83L4 21.41c.39.39.9.59 1.41.59.51 0 1.02-.2 1.41-.59l7.78-7.78 2.81-2.81c.8-.78.8-2.07 0-2.86zM5.41 20L4 18.59l7.72-7.72 1.47 1.35L5.41 20z\"/>\n",
              "  </svg>\n",
              "      </button>\n",
              "      \n",
              "  <style>\n",
              "    .colab-df-container {\n",
              "      display:flex;\n",
              "      flex-wrap:wrap;\n",
              "      gap: 12px;\n",
              "    }\n",
              "\n",
              "    .colab-df-convert {\n",
              "      background-color: #E8F0FE;\n",
              "      border: none;\n",
              "      border-radius: 50%;\n",
              "      cursor: pointer;\n",
              "      display: none;\n",
              "      fill: #1967D2;\n",
              "      height: 32px;\n",
              "      padding: 0 0 0 0;\n",
              "      width: 32px;\n",
              "    }\n",
              "\n",
              "    .colab-df-convert:hover {\n",
              "      background-color: #E2EBFA;\n",
              "      box-shadow: 0px 1px 2px rgba(60, 64, 67, 0.3), 0px 1px 3px 1px rgba(60, 64, 67, 0.15);\n",
              "      fill: #174EA6;\n",
              "    }\n",
              "\n",
              "    [theme=dark] .colab-df-convert {\n",
              "      background-color: #3B4455;\n",
              "      fill: #D2E3FC;\n",
              "    }\n",
              "\n",
              "    [theme=dark] .colab-df-convert:hover {\n",
              "      background-color: #434B5C;\n",
              "      box-shadow: 0px 1px 3px 1px rgba(0, 0, 0, 0.15);\n",
              "      filter: drop-shadow(0px 1px 2px rgba(0, 0, 0, 0.3));\n",
              "      fill: #FFFFFF;\n",
              "    }\n",
              "  </style>\n",
              "\n",
              "      <script>\n",
              "        const buttonEl =\n",
              "          document.querySelector('#df-52d2445f-de2a-4ace-9910-94a991dacd31 button.colab-df-convert');\n",
              "        buttonEl.style.display =\n",
              "          google.colab.kernel.accessAllowed ? 'block' : 'none';\n",
              "\n",
              "        async function convertToInteractive(key) {\n",
              "          const element = document.querySelector('#df-52d2445f-de2a-4ace-9910-94a991dacd31');\n",
              "          const dataTable =\n",
              "            await google.colab.kernel.invokeFunction('convertToInteractive',\n",
              "                                                     [key], {});\n",
              "          if (!dataTable) return;\n",
              "\n",
              "          const docLinkHtml = 'Like what you see? Visit the ' +\n",
              "            '<a target=\"_blank\" href=https://colab.research.google.com/notebooks/data_table.ipynb>data table notebook</a>'\n",
              "            + ' to learn more about interactive tables.';\n",
              "          element.innerHTML = '';\n",
              "          dataTable['output_type'] = 'display_data';\n",
              "          await google.colab.output.renderOutput(dataTable, element);\n",
              "          const docLink = document.createElement('div');\n",
              "          docLink.innerHTML = docLinkHtml;\n",
              "          element.appendChild(docLink);\n",
              "        }\n",
              "      </script>\n",
              "    </div>\n",
              "  </div>\n",
              "  "
            ]
          },
          "metadata": {},
          "execution_count": 7
        }
      ]
    },
    {
      "cell_type": "code",
      "execution_count": null,
      "id": "8f428e75",
      "metadata": {
        "id": "8f428e75"
      },
      "outputs": [],
      "source": [
        "# Show image from dataset\n",
        "def gen_image(image):\n",
        "    \"\"\"Return 28x28 image given grayscale values\"\"\"\n",
        "    pixels = image.reshape((28,28))\n",
        "    plt.imshow(pixels, cmap='gray')\n",
        "    plt.show()"
      ]
    },
    {
      "cell_type": "code",
      "source": [
        "def gen_image_og(image):\n",
        "  \"\"\"Return 224x224 image given grayscale values\"\"\"\n",
        "  pixels = image.reshape((224,224))\n",
        "  plt.imshow(pixels)\n",
        "  plt.show()"
      ],
      "metadata": {
        "id": "DZqQN94SC-Sy"
      },
      "id": "DZqQN94SC-Sy",
      "execution_count": null,
      "outputs": []
    },
    {
      "cell_type": "code",
      "source": [
        "# gen_image_og(np.array(X_test.iloc[4]))"
      ],
      "metadata": {
        "id": "ZmiR1jKADZka"
      },
      "id": "ZmiR1jKADZka",
      "execution_count": null,
      "outputs": []
    },
    {
      "cell_type": "code",
      "execution_count": null,
      "id": "59532ca7",
      "metadata": {
        "colab": {
          "base_uri": "https://localhost:8080/",
          "height": 430
        },
        "id": "59532ca7",
        "outputId": "dec86407-f929-4ca2-e9eb-faeeb898c6cf"
      },
      "outputs": [
        {
          "output_type": "display_data",
          "data": {
            "text/plain": [
              "<Figure size 640x480 with 1 Axes>"
            ],
            "image/png": "[encoded data removed]"
          },
          "metadata": {}
        }
      ],
      "source": [
        "# Get image from training set\n",
        "gen_image(np.array(X_test.iloc[4]))"
      ]
    },
    {
      "cell_type": "code",
      "execution_count": null,
      "id": "59f9bb7d",
      "metadata": {
        "id": "59f9bb7d"
      },
      "outputs": [],
      "source": [
        "# Assign numbers to corresponding label\n",
        "label_dict = {0:'A',1:'B',2:'C',3:'D',4:'E',5:'F',6:'G',7:'H',8:'I',9:'J',10:'K',11:'L',12:'M',13:'N',14:'O',15:'P',16:'Q',17:'R',\\\n",
        "             18:'S',19:'T',20:'U',21:'V',22:'W',23:'X',24:'Y', 25: 'Z'}\n",
        "label_dict_rev = {'A':0,'B':1,'C':2,'D':3,'E':4,'F':5,'G':6,'H':7,'I':8, 'J': 9, 'K':10,'L':11,'M':12,'N':13,'O':14,'P':15,'Q':16,'R':17,\\\n",
        "                 'S':18,'T':19,'U':20,'V':21,'W':22,'X':23,'Y':24, 'Z':25}\n",
        "\n",
        "Y_test1 = []\n",
        "for i in Y_test:\n",
        "    Y_test1.append(label_dict_rev.get(label_dict.get(i)))\n",
        "\n",
        "Y_test2 = to_categorical(Y_test1, num_classes = 26)\n",
        "Y_train = train['labels']\n",
        "\n",
        "Y_train1 = []\n",
        "for i in Y_train:\n",
        "    Y_train1.append(label_dict_rev.get(label_dict.get(i)))\n",
        "\n",
        "# Classes labeled as 1-24; Need to change to 0-23 for to_categorical\n",
        "Y_train2 = to_categorical(Y_train1, num_classes = 26)\n",
        "X_train = train.iloc[:,2:]"
      ]
    },
    {
      "cell_type": "code",
      "execution_count": null,
      "id": "6bcc9f89",
      "metadata": {
        "id": "6bcc9f89"
      },
      "outputs": [],
      "source": [
        "# Normalize pixels\n",
        "X_train1 = X_train/255\n",
        "X_test1 = X_test/255"
      ]
    },
    {
      "cell_type": "code",
      "execution_count": null,
      "id": "d31b7c6d",
      "metadata": {
        "colab": {
          "base_uri": "https://localhost:8080/"
        },
        "id": "d31b7c6d",
        "outputId": "11f789c8-c59d-4b72-880d-d27f77ecd9e4"
      },
      "outputs": [
        {
          "output_type": "execute_result",
          "data": {
            "text/plain": [
              "(10530, 784)"
            ]
          },
          "metadata": {},
          "execution_count": 14
        }
      ],
      "source": [
        "X_train1.shape"
      ]
    },
    {
      "cell_type": "code",
      "execution_count": null,
      "id": "3be5bfba",
      "metadata": {
        "id": "3be5bfba"
      },
      "outputs": [],
      "source": [
        "# Convert data to 2D form to represent height x width\n",
        "X_train2 = X_train1.values.reshape(-1,28,28,1)\n",
        "X_test2 = X_test1.values.reshape(-1,28,28,1)\n",
        "\n",
        "# X_train2 = np.expand_dims(X_train1.values, -1)\n",
        "# X_test2 = np.expand_dims(X_test1.values, -1)\n",
        "\n",
        "# Split training set into 10% validation and 90% training\n",
        "X_tr, X_val, Y_tr, Y_val = train_test_split(X_train2, Y_train2, test_size = 0.3, random_state=42, stratify=Y_train2)"
      ]
    },
    {
      "cell_type": "code",
      "execution_count": null,
      "id": "5637641b",
      "metadata": {
        "colab": {
          "base_uri": "https://localhost:8080/"
        },
        "id": "5637641b",
        "outputId": "b65a67c4-41e2-4310-eb82-2895be80271f"
      },
      "outputs": [
        {
          "output_type": "execute_result",
          "data": {
            "text/plain": [
              "(7371, 28, 28, 1)"
            ]
          },
          "metadata": {},
          "execution_count": 16
        }
      ],
      "source": [
        "X_tr.shape"
      ]
    },
    {
      "cell_type": "code",
      "execution_count": null,
      "id": "8d261522",
      "metadata": {
        "id": "8d261522"
      },
      "outputs": [],
      "source": [
        "# First 4 layers of model\n",
        "model = Sequential()\n",
        "# Layer 1\n",
        "model.add(Conv2D(filters=32, kernel_size=(5,5), padding='Same', activation='relu', input_shape=(28,28,1)))\n",
        "model.add(MaxPool2D(pool_size=(2,2))) # downsampling\n",
        "model.add(Dropout(0.25)) # Dropout reduces overfitting\n",
        "# Layer 2\n",
        "model.add(Conv2D(filters=64,kernel_size=(3,3),padding='Same',activation='relu'))\n",
        "model.add(MaxPool2D(pool_size=(2,2),strides=(2,2),padding='Same'))  ##padding\n",
        "model.add(Dropout(0.25))\n",
        "# Fully connected layers\n",
        "model.add(Flatten())\n",
        "model.add(Dense(256,activation='relu'))\n",
        "model.add(Dropout(0.5))\n",
        "model.add(Dense(26, activation='softmax'))\n",
        "\n",
        "optimizer = RMSprop(learning_rate=0.001, rho=0.9, epsilon=1e-08)\n",
        "\n",
        "# use categorical crossentropy as loss function\n",
        "model.compile(optimizer=optimizer, loss='categorical_crossentropy', metrics=['accuracy'])\n",
        "\n",
        "# Define model parameters\n",
        "epochs = 100\n",
        "batch_size = 32\n",
        "learning_rate_reduction = ReduceLROnPlateau(monitor='val_accuracy', patience=2, verbose=1, factor=0.5, min_lr=0.00001)\n",
        "early_stopping = EarlyStopping( # we apply earlystopping to prevent overfitting\n",
        "            monitor='val_loss',\n",
        "            patience=3, # we choose patience=3 to stop the model fit if val_loss won't decrease for 3 epoch\n",
        "            restore_best_weights=True) # choose the best weights when early-stopping"
      ]
    },
    {
      "cell_type": "code",
      "source": [
        "model.summary()"
      ],
      "metadata": {
        "colab": {
          "base_uri": "https://localhost:8080/"
        },
        "id": "SOmf0x6kBDLd",
        "outputId": "28ae6bb2-b993-442a-82e4-7622d7341726"
      },
      "id": "SOmf0x6kBDLd",
      "execution_count": null,
      "outputs": [
        {
          "output_type": "stream",
          "name": "stdout",
          "text": [
            "Model: \"sequential\"\n",
            "_________________________________________________________________\n",
            " Layer (type)                Output Shape              Param #   \n",
            "=================================================================\n",
            " conv2d (Conv2D)             (None, 28, 28, 32)        832       \n",
            "                                                                 \n",
            " max_pooling2d (MaxPooling2D  (None, 14, 14, 32)       0         \n",
            " )                                                               \n",
            "                                                                 \n",
            " dropout (Dropout)           (None, 14, 14, 32)        0         \n",
            "                                                                 \n",
            " conv2d_1 (Conv2D)           (None, 14, 14, 64)        18496     \n",
            "                                                                 \n",
            " max_pooling2d_1 (MaxPooling  (None, 7, 7, 64)         0         \n",
            " 2D)                                                             \n",
            "                                                                 \n",
            " dropout_1 (Dropout)         (None, 7, 7, 64)          0         \n",
            "                                                                 \n",
            " flatten (Flatten)           (None, 3136)              0         \n",
            "                                                                 \n",
            " dense (Dense)               (None, 256)               803072    \n",
            "                                                                 \n",
            " dropout_2 (Dropout)         (None, 256)               0         \n",
            "                                                                 \n",
            " dense_1 (Dense)             (None, 26)                6682      \n",
            "                                                                 \n",
            "=================================================================\n",
            "Total params: 829,082\n",
            "Trainable params: 829,082\n",
            "Non-trainable params: 0\n",
            "_________________________________________________________________\n"
          ]
        }
      ]
    },
    {
      "cell_type": "code",
      "execution_count": null,
      "id": "f2771890",
      "metadata": {
        "colab": {
          "base_uri": "https://localhost:8080/"
        },
        "id": "f2771890",
        "outputId": "d8e9f7b2-a0bf-4b1a-ce95-f2b45bc9e241"
      },
      "outputs": [
        {
          "output_type": "stream",
          "name": "stdout",
          "text": [
            "Epoch 1/100\n",
            "231/231 [==============================] - 17s 12ms/step - loss: 2.8619 - accuracy: 0.1813 - val_loss: 1.7380 - val_accuracy: 0.5391 - lr: 0.0010\n",
            "Epoch 2/100\n",
            "231/231 [==============================] - 2s 8ms/step - loss: 1.5037 - accuracy: 0.5557 - val_loss: 0.9071 - val_accuracy: 0.7398 - lr: 0.0010\n",
            "Epoch 3/100\n",
            "231/231 [==============================] - 2s 10ms/step - loss: 0.9086 - accuracy: 0.7254 - val_loss: 0.4868 - val_accuracy: 0.8655 - lr: 0.0010\n",
            "Epoch 4/100\n",
            "231/231 [==============================] - 2s 9ms/step - loss: 0.6096 - accuracy: 0.8158 - val_loss: 0.2944 - val_accuracy: 0.9288 - lr: 0.0010\n",
            "Epoch 5/100\n",
            "231/231 [==============================] - 3s 13ms/step - loss: 0.4532 - accuracy: 0.8584 - val_loss: 0.2123 - val_accuracy: 0.9481 - lr: 0.0010\n",
            "Epoch 6/100\n",
            "231/231 [==============================] - 1s 5ms/step - loss: 0.3414 - accuracy: 0.8932 - val_loss: 0.1873 - val_accuracy: 0.9601 - lr: 0.0010\n",
            "Epoch 7/100\n",
            "231/231 [==============================] - 1s 6ms/step - loss: 0.2823 - accuracy: 0.9129 - val_loss: 0.1398 - val_accuracy: 0.9649 - lr: 0.0010\n",
            "Epoch 8/100\n",
            "231/231 [==============================] - 1s 5ms/step - loss: 0.2228 - accuracy: 0.9307 - val_loss: 0.0919 - val_accuracy: 0.9750 - lr: 0.0010\n",
            "Epoch 9/100\n",
            "231/231 [==============================] - 1s 6ms/step - loss: 0.1939 - accuracy: 0.9392 - val_loss: 0.0894 - val_accuracy: 0.9763 - lr: 0.0010\n",
            "Epoch 10/100\n",
            "231/231 [==============================] - 1s 5ms/step - loss: 0.1779 - accuracy: 0.9432 - val_loss: 0.0792 - val_accuracy: 0.9794 - lr: 0.0010\n",
            "Epoch 11/100\n",
            "231/231 [==============================] - 1s 6ms/step - loss: 0.1442 - accuracy: 0.9521 - val_loss: 0.0540 - val_accuracy: 0.9851 - lr: 0.0010\n",
            "Epoch 12/100\n",
            "231/231 [==============================] - 1s 5ms/step - loss: 0.1304 - accuracy: 0.9589 - val_loss: 0.0464 - val_accuracy: 0.9892 - lr: 0.0010\n",
            "Epoch 13/100\n",
            "231/231 [==============================] - 1s 6ms/step - loss: 0.1297 - accuracy: 0.9604 - val_loss: 0.0403 - val_accuracy: 0.9892 - lr: 0.0010\n",
            "Epoch 14/100\n",
            "228/231 [============================>.] - ETA: 0s - loss: 0.1063 - accuracy: 0.9674\n",
            "Epoch 14: ReduceLROnPlateau reducing learning rate to 0.0005000000237487257.\n",
            "231/231 [==============================] - 2s 7ms/step - loss: 0.1078 - accuracy: 0.9672 - val_loss: 0.0633 - val_accuracy: 0.9864 - lr: 0.0010\n",
            "Epoch 15/100\n",
            "231/231 [==============================] - 1s 6ms/step - loss: 0.0793 - accuracy: 0.9738 - val_loss: 0.0307 - val_accuracy: 0.9930 - lr: 5.0000e-04\n",
            "Epoch 16/100\n",
            "231/231 [==============================] - 1s 6ms/step - loss: 0.0630 - accuracy: 0.9786 - val_loss: 0.0311 - val_accuracy: 0.9940 - lr: 5.0000e-04\n",
            "Epoch 17/100\n",
            "231/231 [==============================] - 1s 6ms/step - loss: 0.0645 - accuracy: 0.9779 - val_loss: 0.0314 - val_accuracy: 0.9911 - lr: 5.0000e-04\n",
            "Epoch 18/100\n",
            "224/231 [============================>.] - ETA: 0s - loss: 0.0698 - accuracy: 0.9803\n",
            "Epoch 18: ReduceLROnPlateau reducing learning rate to 0.0002500000118743628.\n",
            "231/231 [==============================] - 1s 6ms/step - loss: 0.0693 - accuracy: 0.9803 - val_loss: 0.0282 - val_accuracy: 0.9921 - lr: 5.0000e-04\n",
            "Epoch 19/100\n",
            "231/231 [==============================] - 1s 6ms/step - loss: 0.0499 - accuracy: 0.9837 - val_loss: 0.0237 - val_accuracy: 0.9937 - lr: 2.5000e-04\n",
            "Epoch 20/100\n",
            "231/231 [==============================] - 1s 5ms/step - loss: 0.0462 - accuracy: 0.9864 - val_loss: 0.0212 - val_accuracy: 0.9949 - lr: 2.5000e-04\n",
            "Epoch 21/100\n",
            "231/231 [==============================] - 1s 5ms/step - loss: 0.0468 - accuracy: 0.9856 - val_loss: 0.0203 - val_accuracy: 0.9943 - lr: 2.5000e-04\n",
            "Epoch 22/100\n",
            "231/231 [==============================] - 1s 6ms/step - loss: 0.0398 - accuracy: 0.9871 - val_loss: 0.0200 - val_accuracy: 0.9962 - lr: 2.5000e-04\n",
            "Epoch 23/100\n",
            "231/231 [==============================] - 2s 7ms/step - loss: 0.0386 - accuracy: 0.9858 - val_loss: 0.0201 - val_accuracy: 0.9959 - lr: 2.5000e-04\n",
            "Epoch 24/100\n",
            "225/231 [============================>.] - ETA: 0s - loss: 0.0339 - accuracy: 0.9892\n",
            "Epoch 24: ReduceLROnPlateau reducing learning rate to 0.0001250000059371814.\n",
            "231/231 [==============================] - 2s 7ms/step - loss: 0.0340 - accuracy: 0.9893 - val_loss: 0.0198 - val_accuracy: 0.9946 - lr: 2.5000e-04\n",
            "Epoch 25/100\n",
            "231/231 [==============================] - 1s 5ms/step - loss: 0.0338 - accuracy: 0.9893 - val_loss: 0.0180 - val_accuracy: 0.9953 - lr: 1.2500e-04\n",
            "Epoch 26/100\n",
            "229/231 [============================>.] - ETA: 0s - loss: 0.0386 - accuracy: 0.9887\n",
            "Epoch 26: ReduceLROnPlateau reducing learning rate to 6.25000029685907e-05.\n",
            "231/231 [==============================] - 1s 5ms/step - loss: 0.0384 - accuracy: 0.9887 - val_loss: 0.0180 - val_accuracy: 0.9956 - lr: 1.2500e-04\n",
            "Epoch 27/100\n",
            "231/231 [==============================] - 1s 5ms/step - loss: 0.0273 - accuracy: 0.9917 - val_loss: 0.0184 - val_accuracy: 0.9949 - lr: 6.2500e-05\n",
            "Epoch 28/100\n",
            "228/231 [============================>.] - ETA: 0s - loss: 0.0306 - accuracy: 0.9904\n",
            "Epoch 28: ReduceLROnPlateau reducing learning rate to 3.125000148429535e-05.\n",
            "231/231 [==============================] - 1s 5ms/step - loss: 0.0304 - accuracy: 0.9905 - val_loss: 0.0177 - val_accuracy: 0.9953 - lr: 6.2500e-05\n",
            "Epoch 29/100\n",
            "231/231 [==============================] - 1s 6ms/step - loss: 0.0252 - accuracy: 0.9913 - val_loss: 0.0180 - val_accuracy: 0.9949 - lr: 3.1250e-05\n",
            "Epoch 30/100\n",
            "229/231 [============================>.] - ETA: 0s - loss: 0.0278 - accuracy: 0.9917\n",
            "Epoch 30: ReduceLROnPlateau reducing learning rate to 1.5625000742147677e-05.\n",
            "231/231 [==============================] - 1s 5ms/step - loss: 0.0282 - accuracy: 0.9916 - val_loss: 0.0179 - val_accuracy: 0.9956 - lr: 3.1250e-05\n",
            "Epoch 31/100\n",
            "231/231 [==============================] - 1s 6ms/step - loss: 0.0279 - accuracy: 0.9898 - val_loss: 0.0175 - val_accuracy: 0.9953 - lr: 1.5625e-05\n",
            "Epoch 32/100\n",
            "230/231 [============================>.] - ETA: 0s - loss: 0.0254 - accuracy: 0.9923\n",
            "Epoch 32: ReduceLROnPlateau reducing learning rate to 1e-05.\n",
            "231/231 [==============================] - 2s 8ms/step - loss: 0.0253 - accuracy: 0.9923 - val_loss: 0.0171 - val_accuracy: 0.9962 - lr: 1.5625e-05\n",
            "Epoch 33/100\n",
            "231/231 [==============================] - 2s 7ms/step - loss: 0.0274 - accuracy: 0.9916 - val_loss: 0.0169 - val_accuracy: 0.9962 - lr: 1.0000e-05\n",
            "Epoch 34/100\n",
            "231/231 [==============================] - 2s 7ms/step - loss: 0.0289 - accuracy: 0.9909 - val_loss: 0.0166 - val_accuracy: 0.9962 - lr: 1.0000e-05\n",
            "Epoch 35/100\n",
            "231/231 [==============================] - 2s 7ms/step - loss: 0.0258 - accuracy: 0.9912 - val_loss: 0.0170 - val_accuracy: 0.9959 - lr: 1.0000e-05\n",
            "Epoch 36/100\n",
            "231/231 [==============================] - 1s 5ms/step - loss: 0.0297 - accuracy: 0.9909 - val_loss: 0.0168 - val_accuracy: 0.9959 - lr: 1.0000e-05\n",
            "Epoch 37/100\n",
            "231/231 [==============================] - 1s 6ms/step - loss: 0.0277 - accuracy: 0.9928 - val_loss: 0.0169 - val_accuracy: 0.9965 - lr: 1.0000e-05\n"
          ]
        }
      ],
      "source": [
        "# Fit model - Use first line when predicting and second \"final\" line when using validation set to find # of epochs\n",
        "\n",
        "# model.fit(X_train2, Y_train2, batch_size=batch_size, epochs=epochs, validation_data=(X_val,Y_val), callbacks=[learning_rate_reduction])\n",
        "final = model.fit(X_tr, Y_tr, batch_size=batch_size, epochs=epochs, validation_data=(X_val,Y_val), callbacks=[learning_rate_reduction, early_stopping])"
      ]
    },
    {
      "cell_type": "code",
      "execution_count": null,
      "id": "465b7fff",
      "metadata": {
        "colab": {
          "base_uri": "https://localhost:8080/",
          "height": 927
        },
        "id": "465b7fff",
        "outputId": "672df50c-b8cc-420f-9cb2-71905116ef2b"
      },
      "outputs": [
        {
          "output_type": "display_data",
          "data": {
            "text/plain": [
              "<Figure size 640x480 with 1 Axes>"
            ],
            "image/png": "[encoded data removed]"
          },
          "metadata": {}
        },
        {
          "output_type": "display_data",
          "data": {
            "text/plain": [
              "<Figure size 640x480 with 1 Axes>"
            ],
            "image/png": "[encoded data removed]"
          },
          "metadata": {}
        }
      ],
      "source": [
        "# # Plot training and validation accuracy\n",
        "plt.plot(final.history['accuracy'][1:])\n",
        "plt.plot(final.history['val_accuracy'][1:])\n",
        "plt.title('model accuracy')\n",
        "plt.ylabel('accuracy')\n",
        "plt.xlabel('epoch')\n",
        "plt.legend(['train', 'validation'])\n",
        "# plt.ylim((0.9,1)) # limit y-axis to 90-100% accuracy\n",
        "plt.show()\n",
        "\n",
        "# Plot training and validation loss\n",
        "plt.plot(final.history['loss'][1:])\n",
        "plt.plot(final.history['val_loss'][1:])\n",
        "plt.title('Training and Validation Loss')\n",
        "plt.ylabel('loss')\n",
        "plt.xlabel('epoch')\n",
        "plt.legend(['train', 'validation'])\n",
        "plt.show()"
      ]
    },
    {
      "cell_type": "code",
      "execution_count": null,
      "id": "d981aaaf",
      "metadata": {
        "colab": {
          "base_uri": "https://localhost:8080/"
        },
        "id": "d981aaaf",
        "outputId": "c60c983e-00c3-4b73-bee8-550719477c9c"
      },
      "outputs": [
        {
          "output_type": "stream",
          "name": "stdout",
          "text": [
            "37/37 [==============================] - 0s 4ms/step - loss: 0.5731 - accuracy: 0.8111\n"
          ]
        },
        {
          "output_type": "execute_result",
          "data": {
            "text/plain": [
              "[0.5731280446052551, 0.8111110925674438]"
            ]
          },
          "metadata": {},
          "execution_count": 21
        }
      ],
      "source": [
        "final.model.evaluate(X_test2, Y_test2)\n"
      ]
    },
    {
      "cell_type": "code",
      "execution_count": null,
      "id": "0d301354",
      "metadata": {
        "colab": {
          "base_uri": "https://localhost:8080/"
        },
        "id": "0d301354",
        "outputId": "70ceefdf-3d12-415f-bd70-ec469b9bd7d1"
      },
      "outputs": [
        {
          "output_type": "stream",
          "name": "stderr",
          "text": [
            "WARNING:absl:Found untraced functions such as _jit_compiled_convolution_op, _jit_compiled_convolution_op while saving (showing 2 of 2). These functions will not be directly callable after loading.\n"
          ]
        },
        {
          "output_type": "stream",
          "name": "stdout",
          "text": [
            "  adding: saved_model/ (stored 0%)\n",
            "  adding: saved_model/my_model/ (stored 0%)\n",
            "  adding: saved_model/my_model/saved_model.pb (deflated 89%)\n",
            "  adding: saved_model/my_model/assets/ (stored 0%)\n",
            "  adding: saved_model/my_model/keras_metadata.pb (deflated 90%)\n",
            "  adding: saved_model/my_model/variables/ (stored 0%)\n",
            "  adding: saved_model/my_model/variables/variables.data-00000-of-00001 (deflated 15%)\n",
            "  adding: saved_model/my_model/variables/variables.index (deflated 57%)\n",
            "  adding: saved_model/my_model/fingerprint.pb (stored 0%)\n"
          ]
        }
      ],
      "source": [
        "final.model.save(\"Comp/mnist_model_final.h5\")\n",
        "!mkdir -p saved_model\n",
        "final.model.save('saved_model/my_model')\n",
        "np.save('history_mnist.npy',final.history)\n",
        "!zip -r saved_model.zip saved_model"
      ]
    },
    {
      "cell_type": "code",
      "source": [
        "from google.colab import files\n",
        "files.download(\"saved_model.zip\")\n",
        "files.download(\"Comp/mnist_model_final.h5\")\n",
        "files.download(\"history_mnist.npy\")"
      ],
      "metadata": {
        "colab": {
          "base_uri": "https://localhost:8080/",
          "height": 69
        },
        "id": "wUyj4q59KEz6",
        "outputId": "4fd3631c-0d36-4bf3-dc56-191604a58de9"
      },
      "id": "wUyj4q59KEz6",
      "execution_count": null,
      "outputs": [
        {
          "output_type": "display_data",
          "data": {
            "text/plain": [
              "<IPython.core.display.Javascript object>"
            ],
            "application/javascript": [
              "\n",
              "    async function download(id, filename, size) {\n",
              "      if (!google.colab.kernel.accessAllowed) {\n",
              "        return;\n",
              "      }\n",
              "      const div = document.createElement('div');\n",
              "      const label = document.createElement('label');\n",
              "      label.textContent = `Downloading \"${filename}\": `;\n",
              "      div.appendChild(label);\n",
              "      const progress = document.createElement('progress');\n",
              "      progress.max = size;\n",
              "      div.appendChild(progress);\n",
              "      document.body.appendChild(div);\n",
              "\n",
              "      const buffers = [];\n",
              "      let downloaded = 0;\n",
              "\n",
              "      const channel = await google.colab.kernel.comms.open(id);\n",
              "      // Send a message to notify the kernel that we're ready.\n",
              "      channel.send({})\n",
              "\n",
              "      for await (const message of channel.messages) {\n",
              "        // Send a message to notify the kernel that we're ready.\n",
              "        channel.send({})\n",
              "        if (message.buffers) {\n",
              "          for (const buffer of message.buffers) {\n",
              "            buffers.push(buffer);\n",
              "            downloaded += buffer.byteLength;\n",
              "            progress.value = downloaded;\n",
              "          }\n",
              "        }\n",
              "      }\n",
              "      const blob = new Blob(buffers, {type: 'application/binary'});\n",
              "      const a = document.createElement('a');\n",
              "      a.href = window.URL.createObjectURL(blob);\n",
              "      a.download = filename;\n",
              "      div.appendChild(a);\n",
              "      a.click();\n",
              "      div.remove();\n",
              "    }\n",
              "  "
            ]
          },
          "metadata": {}
        },
        {
          "output_type": "display_data",
          "data": {
            "text/plain": [
              "<IPython.core.display.Javascript object>"
            ],
            "application/javascript": [
              "download(\"download_d5c222e9-9e5e-47a5-8037-cffc9e9dc484\", \"saved_model.zip\", 5701579)"
            ]
          },
          "metadata": {}
        },
        {
          "output_type": "display_data",
          "data": {
            "text/plain": [
              "<IPython.core.display.Javascript object>"
            ],
            "application/javascript": [
              "\n",
              "    async function download(id, filename, size) {\n",
              "      if (!google.colab.kernel.accessAllowed) {\n",
              "        return;\n",
              "      }\n",
              "      const div = document.createElement('div');\n",
              "      const label = document.createElement('label');\n",
              "      label.textContent = `Downloading \"${filename}\": `;\n",
              "      div.appendChild(label);\n",
              "      const progress = document.createElement('progress');\n",
              "      progress.max = size;\n",
              "      div.appendChild(progress);\n",
              "      document.body.appendChild(div);\n",
              "\n",
              "      const buffers = [];\n",
              "      let downloaded = 0;\n",
              "\n",
              "      const channel = await google.colab.kernel.comms.open(id);\n",
              "      // Send a message to notify the kernel that we're ready.\n",
              "      channel.send({})\n",
              "\n",
              "      for await (const message of channel.messages) {\n",
              "        // Send a message to notify the kernel that we're ready.\n",
              "        channel.send({})\n",
              "        if (message.buffers) {\n",
              "          for (const buffer of message.buffers) {\n",
              "            buffers.push(buffer);\n",
              "            downloaded += buffer.byteLength;\n",
              "            progress.value = downloaded;\n",
              "          }\n",
              "        }\n",
              "      }\n",
              "      const blob = new Blob(buffers, {type: 'application/binary'});\n",
              "      const a = document.createElement('a');\n",
              "      a.href = window.URL.createObjectURL(blob);\n",
              "      a.download = filename;\n",
              "      div.appendChild(a);\n",
              "      a.click();\n",
              "      div.remove();\n",
              "    }\n",
              "  "
            ]
          },
          "metadata": {}
        },
        {
          "output_type": "display_data",
          "data": {
            "text/plain": [
              "<IPython.core.display.Javascript object>"
            ],
            "application/javascript": [
              "download(\"download_41e773c6-d986-4096-b3da-d8ec376765fd\", \"mnist_model_final.h5\", 6673016)"
            ]
          },
          "metadata": {}
        },
        {
          "output_type": "display_data",
          "data": {
            "text/plain": [
              "<IPython.core.display.Javascript object>"
            ],
            "application/javascript": [
              "\n",
              "    async function download(id, filename, size) {\n",
              "      if (!google.colab.kernel.accessAllowed) {\n",
              "        return;\n",
              "      }\n",
              "      const div = document.createElement('div');\n",
              "      const label = document.createElement('label');\n",
              "      label.textContent = `Downloading \"${filename}\": `;\n",
              "      div.appendChild(label);\n",
              "      const progress = document.createElement('progress');\n",
              "      progress.max = size;\n",
              "      div.appendChild(progress);\n",
              "      document.body.appendChild(div);\n",
              "\n",
              "      const buffers = [];\n",
              "      let downloaded = 0;\n",
              "\n",
              "      const channel = await google.colab.kernel.comms.open(id);\n",
              "      // Send a message to notify the kernel that we're ready.\n",
              "      channel.send({})\n",
              "\n",
              "      for await (const message of channel.messages) {\n",
              "        // Send a message to notify the kernel that we're ready.\n",
              "        channel.send({})\n",
              "        if (message.buffers) {\n",
              "          for (const buffer of message.buffers) {\n",
              "            buffers.push(buffer);\n",
              "            downloaded += buffer.byteLength;\n",
              "            progress.value = downloaded;\n",
              "          }\n",
              "        }\n",
              "      }\n",
              "      const blob = new Blob(buffers, {type: 'application/binary'});\n",
              "      const a = document.createElement('a');\n",
              "      a.href = window.URL.createObjectURL(blob);\n",
              "      a.download = filename;\n",
              "      div.appendChild(a);\n",
              "      a.click();\n",
              "      div.remove();\n",
              "    }\n",
              "  "
            ]
          },
          "metadata": {}
        },
        {
          "output_type": "display_data",
          "data": {
            "text/plain": [
              "<IPython.core.display.Javascript object>"
            ],
            "application/javascript": [
              "download(\"download_8a7722de-5755-4199-b0c4-4545cf61c55e\", \"history_mnist.npy\", 2451)"
            ]
          },
          "metadata": {}
        }
      ]
    },
    {
      "cell_type": "code",
      "execution_count": null,
      "id": "23b81da7",
      "metadata": {
        "colab": {
          "base_uri": "https://localhost:8080/"
        },
        "id": "23b81da7",
        "outputId": "347b0ee1-812f-4394-b7b5-ecdac611c645"
      },
      "outputs": [
        {
          "output_type": "stream",
          "name": "stdout",
          "text": [
            "37/37 [==============================] - 0s 2ms/step\n"
          ]
        }
      ],
      "source": [
        "results = model.predict(X_test2) # predict test labels\n",
        "Y_pred_classes = np.argmax(results, axis = 1) # Convert predictions classes to one hot vectors\n",
        "Y_true = np.argmax(Y_test2,axis = 1) # Convert validation observations to one hot vectors"
      ]
    },
    {
      "cell_type": "code",
      "execution_count": null,
      "id": "f8acce3a",
      "metadata": {
        "colab": {
          "base_uri": "https://localhost:8080/"
        },
        "id": "f8acce3a",
        "outputId": "161c2add-29e9-430c-edf2-e4acb808f6ae"
      },
      "outputs": [
        {
          "output_type": "execute_result",
          "data": {
            "text/plain": [
              "(7371, 28, 28, 1)"
            ]
          },
          "metadata": {},
          "execution_count": 25
        }
      ],
      "source": [
        "X_tr.shape"
      ]
    },
    {
      "cell_type": "code",
      "execution_count": null,
      "id": "4de35ad0",
      "metadata": {
        "colab": {
          "base_uri": "https://localhost:8080/"
        },
        "id": "4de35ad0",
        "outputId": "3fdbaa8f-1515-42d8-d852-0b1b7ebf6c9e"
      },
      "outputs": [
        {
          "output_type": "stream",
          "name": "stdout",
          "text": [
            "37/37 [==============================] - 0s 2ms/step\n"
          ]
        }
      ],
      "source": [
        "from sklearn.metrics import confusion_matrix\n",
        "from sklearn.metrics import classification_report\n",
        "import seaborn as sns\n",
        "\n",
        "results = model.predict(X_test2) # predict test labels\n",
        "Y_pred_classes = np.argmax(results, axis = 1) # Convert predictions classes to one hot vectors\n",
        "Y_true = np.argmax(Y_test2,axis = 1) # Convert validation observations to one hot vectors\n",
        "labels = [\"A\", \"B\", \"C\", \"D\", \"E\", \"F\",\"G\",\"H\",\"I\",\"J\",\"K\",\"L\", \"M\", \"N\", \"O\",\n",
        "                \"P\", \"Q\", \"R\", \"S\", \"T\", \"U\", \"V\", \"W\", \"X\", \"Y\", \"Z\"]\n",
        "\n",
        "classif_report = classification_report(Y_true, Y_pred_classes, target_names = labels)"
      ]
    },
    {
      "cell_type": "code",
      "execution_count": null,
      "id": "e921351a",
      "metadata": {
        "colab": {
          "base_uri": "https://localhost:8080/"
        },
        "id": "e921351a",
        "outputId": "36cebedf-99b6-4ac2-93d3-168459b91ec5"
      },
      "outputs": [
        {
          "output_type": "stream",
          "name": "stdout",
          "text": [
            "              precision    recall  f1-score   support\n",
            "\n",
            "           A       0.88      1.00      0.94        45\n",
            "           B       0.94      0.64      0.76        45\n",
            "           C       0.68      1.00      0.81        45\n",
            "           D       0.74      1.00      0.85        45\n",
            "           E       0.92      1.00      0.96        45\n",
            "           F       0.74      0.96      0.83        45\n",
            "           G       0.68      1.00      0.81        45\n",
            "           H       0.82      1.00      0.90        45\n",
            "           I       0.92      1.00      0.96        45\n",
            "           J       0.94      0.76      0.84        45\n",
            "           K       1.00      1.00      1.00        45\n",
            "           L       0.98      0.91      0.94        45\n",
            "           M       0.76      0.58      0.66        45\n",
            "           N       0.74      0.96      0.83        45\n",
            "           O       0.90      0.40      0.55        45\n",
            "           P       1.00      0.40      0.57        45\n",
            "           Q       0.90      0.78      0.83        45\n",
            "           R       0.61      1.00      0.76        45\n",
            "           S       0.62      0.96      0.75        45\n",
            "           T       0.75      1.00      0.86        45\n",
            "           U       1.00      0.33      0.50        45\n",
            "           V       0.70      1.00      0.83        45\n",
            "           W       1.00      0.58      0.73        45\n",
            "           X       1.00      0.47      0.64        45\n",
            "           Y       0.97      0.87      0.92        45\n",
            "           Z       1.00      0.51      0.68        45\n",
            "\n",
            "    accuracy                           0.81      1170\n",
            "   macro avg       0.85      0.81      0.80      1170\n",
            "weighted avg       0.85      0.81      0.80      1170\n",
            "\n"
          ]
        }
      ],
      "source": [
        "print(classif_report)"
      ]
    },
    {
      "cell_type": "code",
      "source": [
        "confusion_mtx = confusion_matrix(Y_true, Y_pred_classes, normalize = 'true')\n",
        "plt.figure(figsize = (16,9))\n",
        "sns.heatmap(confusion_mtx, cmap='Blues',annot=True, xticklabels = sorted(set(labels)), yticklabels = sorted(set(labels)))\n",
        "plt.title('Confusion Matrix (Normalized)')\n",
        "plt.show()"
      ],
      "metadata": {
        "colab": {
          "base_uri": "https://localhost:8080/",
          "height": 776
        },
        "id": "eS_NcXrhLFRR",
        "outputId": "00599aaa-2b71-401c-ce5e-9128bdd8266b"
      },
      "id": "eS_NcXrhLFRR",
      "execution_count": null,
      "outputs": [
        {
          "output_type": "display_data",
          "data": {
            "text/plain": [
              "<Figure size 1600x900 with 2 Axes>"
            ],
            "image/png": "[encoded data removed]"
          },
          "metadata": {}
        }
      ]
    },
    {
      "cell_type": "code",
      "execution_count": null,
      "id": "ac36029a",
      "metadata": {
        "colab": {
          "base_uri": "https://localhost:8080/",
          "height": 1000
        },
        "id": "ac36029a",
        "outputId": "74c5327e-c925-402a-c792-c1d4aa7b4792"
      },
      "outputs": [
        {
          "output_type": "stream",
          "name": "stdout",
          "text": [
            "Looking in indexes: https://pypi.org/simple, https://us-python.pkg.dev/colab-wheels/public/simple/\n",
            "Collecting onnx==1.12\n",
            "  Downloading onnx-1.12.0-cp310-cp310-manylinux_2_17_x86_64.manylinux2014_x86_64.whl (13.1 MB)\n",
            "\u001b[2K     \u001b[90m━━━━━━━━━━━━━━━━━━━━━━━━━━━━━━━━━━━━━━━━\u001b[0m \u001b[32m13.1/13.1 MB\u001b[0m \u001b[31m59.9 MB/s\u001b[0m eta \u001b[36m0:00:00\u001b[0m\n",
            "\u001b[?25hRequirement already satisfied: numpy>=1.16.6 in /usr/local/lib/python3.10/dist-packages (from onnx==1.12) (1.22.4)\n",
            "Collecting protobuf<=3.20.1,>=3.12.2 (from onnx==1.12)\n",
            "  Downloading protobuf-3.20.1-cp310-cp310-manylinux_2_12_x86_64.manylinux2010_x86_64.whl (1.1 MB)\n",
            "\u001b[2K     \u001b[90m━━━━━━━━━━━━━━━━━━━━━━━━━━━━━━━━━━━━━━━━\u001b[0m \u001b[32m1.1/1.1 MB\u001b[0m \u001b[31m66.9 MB/s\u001b[0m eta \u001b[36m0:00:00\u001b[0m\n",
            "\u001b[?25hRequirement already satisfied: typing-extensions>=3.6.2.1 in /usr/local/lib/python3.10/dist-packages (from onnx==1.12) (4.5.0)\n",
            "Installing collected packages: protobuf, onnx\n",
            "  Attempting uninstall: protobuf\n",
            "    Found existing installation: protobuf 3.20.3\n",
            "    Uninstalling protobuf-3.20.3:\n",
            "      Successfully uninstalled protobuf-3.20.3\n",
            "\u001b[31mERROR: pip's dependency resolver does not currently take into account all the packages that are installed. This behaviour is the source of the following dependency conflicts.\n",
            "google-api-core 2.11.0 requires protobuf!=3.20.0,!=3.20.1,!=4.21.0,!=4.21.1,!=4.21.2,!=4.21.3,!=4.21.4,!=4.21.5,<5.0.0dev,>=3.19.5, but you have protobuf 3.20.1 which is incompatible.\n",
            "google-cloud-bigquery 3.9.0 requires protobuf!=3.20.0,!=3.20.1,!=4.21.0,!=4.21.1,!=4.21.2,!=4.21.3,!=4.21.4,!=4.21.5,<5.0.0dev,>=3.19.5, but you have protobuf 3.20.1 which is incompatible.\n",
            "google-cloud-bigquery-storage 2.19.1 requires protobuf!=3.20.0,!=3.20.1,!=4.21.0,!=4.21.1,!=4.21.2,!=4.21.3,!=4.21.4,!=4.21.5,<5.0.0dev,>=3.19.5, but you have protobuf 3.20.1 which is incompatible.\n",
            "google-cloud-datastore 2.15.1 requires protobuf!=3.20.0,!=3.20.1,!=4.21.0,!=4.21.1,!=4.21.2,!=4.21.3,!=4.21.4,!=4.21.5,<5.0.0dev,>=3.19.5, but you have protobuf 3.20.1 which is incompatible.\n",
            "google-cloud-firestore 2.11.0 requires protobuf!=3.20.0,!=3.20.1,!=4.21.0,!=4.21.1,!=4.21.2,!=4.21.3,!=4.21.4,!=4.21.5,<5.0.0dev,>=3.19.5, but you have protobuf 3.20.1 which is incompatible.\n",
            "google-cloud-language 2.9.1 requires protobuf!=3.20.0,!=3.20.1,!=4.21.0,!=4.21.1,!=4.21.2,!=4.21.3,!=4.21.4,!=4.21.5,<5.0.0dev,>=3.19.5, but you have protobuf 3.20.1 which is incompatible.\n",
            "google-cloud-translate 3.11.1 requires protobuf!=3.20.0,!=3.20.1,!=4.21.0,!=4.21.1,!=4.21.2,!=4.21.3,!=4.21.4,!=4.21.5,<5.0.0dev,>=3.19.5, but you have protobuf 3.20.1 which is incompatible.\n",
            "googleapis-common-protos 1.59.0 requires protobuf!=3.20.0,!=3.20.1,!=4.21.1,!=4.21.2,!=4.21.3,!=4.21.4,!=4.21.5,<5.0.0dev,>=3.19.5, but you have protobuf 3.20.1 which is incompatible.\n",
            "tensorflow 2.12.0 requires protobuf!=4.21.0,!=4.21.1,!=4.21.2,!=4.21.3,!=4.21.4,!=4.21.5,<5.0.0dev,>=3.20.3, but you have protobuf 3.20.1 which is incompatible.\n",
            "tensorflow-metadata 1.13.1 requires protobuf<5,>=3.20.3, but you have protobuf 3.20.1 which is incompatible.\u001b[0m\u001b[31m\n",
            "\u001b[0mSuccessfully installed onnx-1.12.0 protobuf-3.20.1\n"
          ]
        },
        {
          "output_type": "display_data",
          "data": {
            "application/vnd.colab-display-data+json": {
              "pip_warning": {
                "packages": [
                  "google"
                ]
              }
            }
          },
          "metadata": {}
        },
        {
          "output_type": "stream",
          "name": "stdout",
          "text": [
            "Looking in indexes: https://pypi.org/simple, https://us-python.pkg.dev/colab-wheels/public/simple/\n",
            "Collecting tf2onnx\n",
            "  Downloading tf2onnx-1.14.0-py3-none-any.whl (451 kB)\n",
            "\u001b[2K     \u001b[90m━━━━━━━━━━━━━━━━━━━━━━━━━━━━━━━━━━━━━━━\u001b[0m \u001b[32m451.2/451.2 kB\u001b[0m \u001b[31m3.7 MB/s\u001b[0m eta \u001b[36m0:00:00\u001b[0m\n",
            "\u001b[?25hRequirement already satisfied: numpy>=1.14.1 in /usr/local/lib/python3.10/dist-packages (from tf2onnx) (1.22.4)\n",
            "Requirement already satisfied: onnx>=1.4.1 in /usr/local/lib/python3.10/dist-packages (from tf2onnx) (1.12.0)\n",
            "Requirement already satisfied: requests in /usr/local/lib/python3.10/dist-packages (from tf2onnx) (2.27.1)\n",
            "Requirement already satisfied: six in /usr/local/lib/python3.10/dist-packages (from tf2onnx) (1.16.0)\n",
            "Collecting flatbuffers<3.0,>=1.12 (from tf2onnx)\n",
            "  Downloading flatbuffers-2.0.7-py2.py3-none-any.whl (26 kB)\n",
            "Requirement already satisfied: protobuf<=3.20.1,>=3.12.2 in /usr/local/lib/python3.10/dist-packages (from onnx>=1.4.1->tf2onnx) (3.20.1)\n",
            "Requirement already satisfied: typing-extensions>=3.6.2.1 in /usr/local/lib/python3.10/dist-packages (from onnx>=1.4.1->tf2onnx) (4.5.0)\n",
            "Requirement already satisfied: urllib3<1.27,>=1.21.1 in /usr/local/lib/python3.10/dist-packages (from requests->tf2onnx) (1.26.15)\n",
            "Requirement already satisfied: certifi>=2017.4.17 in /usr/local/lib/python3.10/dist-packages (from requests->tf2onnx) (2022.12.7)\n",
            "Requirement already satisfied: charset-normalizer~=2.0.0 in /usr/local/lib/python3.10/dist-packages (from requests->tf2onnx) (2.0.12)\n",
            "Requirement already satisfied: idna<4,>=2.5 in /usr/local/lib/python3.10/dist-packages (from requests->tf2onnx) (3.4)\n",
            "Installing collected packages: flatbuffers, tf2onnx\n",
            "  Attempting uninstall: flatbuffers\n",
            "    Found existing installation: flatbuffers 23.3.3\n",
            "    Uninstalling flatbuffers-23.3.3:\n",
            "      Successfully uninstalled flatbuffers-23.3.3\n",
            "\u001b[31mERROR: pip's dependency resolver does not currently take into account all the packages that are installed. This behaviour is the source of the following dependency conflicts.\n",
            "tensorflow 2.12.0 requires protobuf!=4.21.0,!=4.21.1,!=4.21.2,!=4.21.3,!=4.21.4,!=4.21.5,<5.0.0dev,>=3.20.3, but you have protobuf 3.20.1 which is incompatible.\u001b[0m\u001b[31m\n",
            "\u001b[0mSuccessfully installed flatbuffers-2.0.7 tf2onnx-1.14.0\n"
          ]
        },
        {
          "output_type": "display_data",
          "data": {
            "application/vnd.colab-display-data+json": {
              "pip_warning": {
                "packages": [
                  "flatbuffers"
                ]
              }
            }
          },
          "metadata": {}
        }
      ],
      "source": [
        "#Model conversion to ONNX\n",
        "\n",
        "!pip install onnx==1.12\n",
        "!pip install tf2onnx"
      ]
    },
    {
      "cell_type": "code",
      "source": [
        "!python -m tf2onnx.convert --saved-model saved_model/my_model --output saved_model-mnist.onnx\n"
      ],
      "metadata": {
        "colab": {
          "base_uri": "https://localhost:8080/"
        },
        "id": "Z3bN41bgL8n3",
        "outputId": "5b766cbe-5101-4034-a191-3da8c16e0aa9"
      },
      "id": "Z3bN41bgL8n3",
      "execution_count": null,
      "outputs": [
        {
          "output_type": "stream",
          "name": "stdout",
          "text": [
            "2023-06-17 02:54:16.660195: W tensorflow/compiler/tf2tensorrt/utils/py_utils.cc:38] TF-TRT Warning: Could not find TensorRT\n",
            "/usr/lib/python3.10/runpy.py:126: RuntimeWarning: 'tf2onnx.convert' found in sys.modules after import of package 'tf2onnx', but prior to execution of 'tf2onnx.convert'; this may result in unpredictable behaviour\n",
            "  warn(RuntimeWarning(msg))\n",
            "2023-06-17 02:54:19.697605: W tensorflow/core/common_runtime/gpu/gpu_bfc_allocator.cc:47] Overriding orig_value setting because the TF_FORCE_GPU_ALLOW_GROWTH environment variable is set. Original config value was 0.\n",
            "2023-06-17 02:54:19,698 - WARNING - '--tag' not specified for saved_model. Using --tag serve\n",
            "2023-06-17 02:54:20,172 - INFO - Signatures found in model: [serving_default].\n",
            "2023-06-17 02:54:20,172 - WARNING - '--signature_def' not specified, using first signature: serving_default\n",
            "2023-06-17 02:54:20,172 - INFO - Output names: ['dense_1']\n",
            "2023-06-17 02:54:20,324 - INFO - Using tensorflow=2.12.0, onnx=1.12.0, tf2onnx=1.14.0/8f8d49\n",
            "2023-06-17 02:54:20,325 - INFO - Using opset <onnx, 15>\n",
            "2023-06-17 02:54:20,341 - INFO - Computed 0 values for constant folding\n",
            "2023-06-17 02:54:20,363 - INFO - Optimizing ONNX model\n",
            "2023-06-17 02:54:20,412 - INFO - After optimization: Cast -1 (1->0), Const +1 (9->10), Identity -2 (2->0), Reshape +1 (1->2), Transpose -7 (8->1)\n",
            "2023-06-17 02:54:20,416 - INFO - \n",
            "2023-06-17 02:54:20,416 - INFO - Successfully converted TensorFlow model saved_model/my_model to ONNX\n",
            "2023-06-17 02:54:20,416 - INFO - Model inputs: ['conv2d_input']\n",
            "2023-06-17 02:54:20,416 - INFO - Model outputs: ['dense_1']\n",
            "2023-06-17 02:54:20,416 - INFO - ONNX model is saved at saved_model-mnist.onnx\n"
          ]
        }
      ]
    },
    {
      "cell_type": "code",
      "source": [
        "files.download(\"saved_model-mnist.onnx\")\n"
      ],
      "metadata": {
        "colab": {
          "base_uri": "https://localhost:8080/",
          "height": 34
        },
        "id": "VUDbd2lcMDXD",
        "outputId": "fa1fefea-cf79-41d9-dd5c-c2e7f35302aa"
      },
      "id": "VUDbd2lcMDXD",
      "execution_count": null,
      "outputs": [
        {
          "output_type": "display_data",
          "data": {
            "text/plain": [
              "<IPython.core.display.Javascript object>"
            ],
            "application/javascript": [
              "\n",
              "    async function download(id, filename, size) {\n",
              "      if (!google.colab.kernel.accessAllowed) {\n",
              "        return;\n",
              "      }\n",
              "      const div = document.createElement('div');\n",
              "      const label = document.createElement('label');\n",
              "      label.textContent = `Downloading \"${filename}\": `;\n",
              "      div.appendChild(label);\n",
              "      const progress = document.createElement('progress');\n",
              "      progress.max = size;\n",
              "      div.appendChild(progress);\n",
              "      document.body.appendChild(div);\n",
              "\n",
              "      const buffers = [];\n",
              "      let downloaded = 0;\n",
              "\n",
              "      const channel = await google.colab.kernel.comms.open(id);\n",
              "      // Send a message to notify the kernel that we're ready.\n",
              "      channel.send({})\n",
              "\n",
              "      for await (const message of channel.messages) {\n",
              "        // Send a message to notify the kernel that we're ready.\n",
              "        channel.send({})\n",
              "        if (message.buffers) {\n",
              "          for (const buffer of message.buffers) {\n",
              "            buffers.push(buffer);\n",
              "            downloaded += buffer.byteLength;\n",
              "            progress.value = downloaded;\n",
              "          }\n",
              "        }\n",
              "      }\n",
              "      const blob = new Blob(buffers, {type: 'application/binary'});\n",
              "      const a = document.createElement('a');\n",
              "      a.href = window.URL.createObjectURL(blob);\n",
              "      a.download = filename;\n",
              "      div.appendChild(a);\n",
              "      a.click();\n",
              "      div.remove();\n",
              "    }\n",
              "  "
            ]
          },
          "metadata": {}
        },
        {
          "output_type": "display_data",
          "data": {
            "text/plain": [
              "<IPython.core.display.Javascript object>"
            ],
            "application/javascript": [
              "download(\"download_e7c4f6e7-71b5-40c2-9c06-c81eae6f40a6\", \"saved_model-mnist.onnx\", 3320655)"
            ]
          },
          "metadata": {}
        }
      ]
    }
  ],
  "metadata": {
    "kernelspec": {
      "display_name": "ml",
      "language": "python",
      "name": "ml"
    },
    "language_info": {
      "codemirror_mode": {
        "name": "ipython",
        "version": 3
      },
      "file_extension": ".py",
      "mimetype": "text/x-python",
      "name": "python",
      "nbconvert_exporter": "python",
      "pygments_lexer": "ipython3",
      "version": "3.10.2"
    },
    "colab": {
      "provenance": [],
      "gpuType": "T4"
    },
    "accelerator": "GPU"
  },
  "nbformat": 4,
  "nbformat_minor": 5
}